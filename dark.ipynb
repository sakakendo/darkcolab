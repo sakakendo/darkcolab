{
  "nbformat": 4,
  "nbformat_minor": 0,
  "metadata": {
    "colab": {
      "name": "dark.ipynb",
      "version": "0.3.2",
      "provenance": [],
      "include_colab_link": true
    },
    "kernelspec": {
      "name": "python3",
      "display_name": "Python 3"
    },
    "accelerator": "GPU"
  },
  "cells": [
    {
      "cell_type": "markdown",
      "metadata": {
        "id": "view-in-github",
        "colab_type": "text"
      },
      "source": [
        "[View in Colaboratory](https://colab.research.google.com/github/sakakendo0321/darkcolab/blob/master/dark.ipynb)"
      ]
    },
    {
      "metadata": {
        "id": "Iml-CH1h7RQg",
        "colab_type": "code",
        "colab": {}
      },
      "cell_type": "code",
      "source": [
        "#install gpu library\n",
        "!apt update -qq;\n",
        "!wget https://developer.nvidia.com/compute/cuda/8.0/Prod2/local_installers/cuda-repo-ubuntu1604-8-0-local-ga2_8.0.61-1_amd64-deb;\n",
        "!dpkg -i cuda-repo-ubuntu1604-8-0-local-ga2_8.0.61-1_amd64-deb;\n",
        "!apt-key add /var/cuda-repo-8-0-local-ga2/7fa2af80.pub;\n",
        "!apt-get update -qq;\n",
        "!apt-get install cuda gcc-5 g++-5 -y -qq;\n",
        "!ln -s /usr/bin/gcc-5 /usr/local/cuda/bin/gcc;\n",
        "!ln -s /usr/bin/g++-5 /usr/local/cuda/bin/g++;\n",
        "!apt install cuda-8.0;"
      ],
      "execution_count": 0,
      "outputs": []
    },
    {
      "metadata": {
        "id": "FebPXXQo824S",
        "colab_type": "code",
        "colab": {}
      },
      "cell_type": "code",
      "source": [
        "#install apt\n",
        "!apt install -y pciutils lsof psmisc vim #iputils\n",
        "#install python library\n",
        "!pip3 install icecream flask numpy\n",
        "#yolo-gpu\n",
        "!export PATH=/usr/local/cuda/bin:$PATH;export LD_LIBRARY_PATH=/usr/local/cuda/lib64:$LD_LIBRARY_PATH;pip3 install yolo34py-gpu\n",
        "#yolo without-gpu\n",
        "#! [[ ! /usr/local/cuda/nvcc --version ]] && pip3 install yolo34py"
      ],
      "execution_count": 0,
      "outputs": []
    },
    {
      "metadata": {
        "id": "6zdiBcwAQRkU",
        "colab_type": "code",
        "colab": {}
      },
      "cell_type": "code",
      "source": [
        "#setup server\n",
        "#create flask server\n",
        "![[ ! -e darknet ]] && git clone https://github.com/sakakendo0321/darkcolab\n",
        "!wget https://pjreddie.com/media/files/yolov3.weights -P darkcolab\n",
        "#get_ipython().system_raw('cd darkcolab&&export FLASK_ENV=development && export FLASK_APP=app.py && flask run --port=5000&')\n",
        "get_ipython().system_raw('cd darkcolab&&nohup python3 app.py&')\n",
        "\n",
        "#create ssh server\n",
        "#Generate root password\n",
        "import random, string\n",
        "password = ''.join(random.choice(string.ascii_letters + string.digits) for i in range(20))\n",
        "\n",
        "#Download ngrok\n",
        "! wget -q -c -nc https://bin.equinox.io/c/4VmDzA7iaHb/ngrok-stable-linux-amd64.zip\n",
        "! unzip -qq -n ngrok-stable-linux-amd64.zip\n",
        "#Setup sshd\n",
        "! apt-get install -qq -o=Dpkg::Use-Pty=0 openssh-server pwgen > /dev/null\n",
        "#Set root password\n",
        "! echo root:$password | chpasswd\n",
        "! mkdir -p /var/run/sshd\n",
        "! echo \"PermitRootLogin yes\" >> /etc/ssh/sshd_config\n",
        "! echo \"PasswordAuthentication yes\" >> /etc/ssh/sshd_config\n",
        "! echo \"LD_LIBRARY_PATH=/usr/lib64-nvidia\" >> /root/.bashrc\n",
        "! echo \"export LD_LIBRARY_PATH\" >> /root/.bashrc\n",
        "\n",
        "#Run sshd\n",
        "get_ipython().system_raw('/usr/sbin/sshd -D &')\n",
        "\n",
        "#Ask token\n",
        "try:\n",
        "  authtoken\n",
        "except NameError:\n",
        "  print(\"Copy authtoken from https://dashboard.ngrok.com/auth\")\n",
        "  import getpass\n",
        "  authtoken = getpass.getpass()\n",
        "\n",
        "#Create tunnel\n",
        "get_ipython().system_raw('./ngrok authtoken $authtoken && ./ngrok tcp 22 && ./ngrok http 5000&')\n",
        "\n",
        "#Print root password\n",
        "print(\"Root password: {}\".format(password))\n",
        "\n"
      ],
      "execution_count": 0,
      "outputs": []
    },
    {
      "metadata": {
        "id": "yy7ywm8XVd0n",
        "colab_type": "code",
        "colab": {}
      },
      "cell_type": "code",
      "source": [
        "#get status\n",
        "\n",
        "print(\"Root password: {}\".format(password))\n",
        "!/usr/local/cuda/bin/nvcc --version\n",
        "!curl -s http://localhost:4040/api/tunnels #tunnel alive\n",
        "!curl localhost:5000 #server alive\n",
        "!ps aux |grep flask #process alive\n",
        "!find darkcolab |grep -v .git # file struct\n",
        "\n",
        "#!curl -X POST http://localhost:4040/api/tunnels -H \"Content-Type: application/json\" -d '{\"addr\":\"22\",\"proto\":\"tcp\",\"name\":\"ssh\"}'\n",
        "#!curl -X POST http://localhost:4040/api/tunnels -H \"Content-Type: application/json\" -d '{\"addr\":\"5000\",\"proto\":\"http\",\"name\":\"flask\"}'\n"
      ],
      "execution_count": 0,
      "outputs": []
    },
    {
      "metadata": {
        "id": "8MZt7jARBVCb",
        "colab_type": "code",
        "colab": {}
      },
      "cell_type": "code",
      "source": [
        "#test python library\n",
        "!wget https://pbs.twimg.com/media/DnyZMg0VAAA9vpO.jpg -O fuji.jpg\n",
        "!ls\n",
        "from pydarknet import Detector, Image\n",
        "import cv2\n",
        "\n",
        "img = cv2.imread('fuji.jpg')\n",
        "img_darknet = Image(img)\n"
      ],
      "execution_count": 0,
      "outputs": []
    },
    {
      "metadata": {
        "id": "RfVcEm4c17PB",
        "colab_type": "code",
        "colab": {}
      },
      "cell_type": "code",
      "source": [
        "#onetime workspace\n",
        "!ps aux |grep flask\n",
        "#get_ipython().system_raw('cd darkcolab&& export FLASK_ENV=development && export FLASK_APP=app.py && flask run --port=5000&')\n",
        "\n",
        "\n",
        "!curl -X POST http://localhost:4040/api/tunnels -H \"Content-Type: application/json\" -d '{\"addr\":\"5000\",\"proto\":\"http\",\"name\":\"flask\"}'\n",
        "#!mkdir darkcolab/static/uploads -p"
      ],
      "execution_count": 0,
      "outputs": []
    }
  ]
}